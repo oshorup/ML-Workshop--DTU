{
 "cells": [
  {
   "cell_type": "code",
   "execution_count": 13,
   "metadata": {},
   "outputs": [],
   "source": [
    "import os\n",
    "import numpy as np\n",
    "import cv2"
   ]
  },
  {
   "cell_type": "code",
   "execution_count": 14,
   "metadata": {},
   "outputs": [
    {
     "name": "stdout",
     "output_type": "stream",
     "text": [
      "(18, 100, 100, 3)  Ausho.npy\n",
      "(20, 100, 100, 3) abdur.npy\n"
     ]
    }
   ],
   "source": [
    "files = os.listdir()\n",
    "d = {}\n",
    "cnt = 0 \n",
    "\n",
    "X = []\n",
    "Y = []\n",
    "for f in files:\n",
    "    if f.endswith(\".npy\"):\n",
    "        data = np.load(f)\n",
    "        print(data.shape,f)\n",
    "        labels = np.ones((data.shape[0],1))*cnt\n",
    "        \n",
    "        X.append(data)\n",
    "        Y.append(labels)\n",
    "        d[cnt] = f[:-4]\n",
    "        cnt += 1"
   ]
  },
  {
   "cell_type": "code",
   "execution_count": 15,
   "metadata": {},
   "outputs": [
    {
     "data": {
      "text/plain": [
       "[' Ausho.npy',\n",
       " '.ipynb_checkpoints',\n",
       " 'abdur.npy',\n",
       " 'bac.png',\n",
       " 'Datasets',\n",
       " 'FaceDataCollection.ipynb',\n",
       " 'FaceRecognitionMain.ipynb',\n",
       " 'fake_ai_faces.0.png',\n",
       " 'haarcascade_frontalface_alt.xml',\n",
       " 'HandWrittenDigitRecognition.ipynb',\n",
       " 'image.jpg',\n",
       " 'Matplotlib.ipynb',\n",
       " 'Numpy Basics.ipynb',\n",
       " 'Numpy.ipynb',\n",
       " 'OpenCVandFaceDetection.ipynb',\n",
       " 'pokemon.jpg',\n",
       " 'PokemonClassifier.ipynb',\n",
       " 'PythonBasics.ipynb',\n",
       " 'Python_Basics.ipynb',\n",
       " 'Train']"
      ]
     },
     "execution_count": 15,
     "metadata": {},
     "output_type": "execute_result"
    }
   ],
   "source": [
    "files = os.listdir()\n",
    "files"
   ]
  },
  {
   "cell_type": "code",
   "execution_count": 16,
   "metadata": {},
   "outputs": [
    {
     "data": {
      "text/plain": [
       "{0: ' Ausho', 1: 'abdur'}"
      ]
     },
     "execution_count": 16,
     "metadata": {},
     "output_type": "execute_result"
    }
   ],
   "source": [
    "d"
   ]
  },
  {
   "cell_type": "code",
   "execution_count": 19,
   "metadata": {},
   "outputs": [
    {
     "data": {
      "text/plain": [
       "array([[[  0, 255,   0],\n",
       "        [  0, 255,   0],\n",
       "        [  0, 255,   0],\n",
       "        ...,\n",
       "        [  0, 255,   0],\n",
       "        [  0, 255,   0],\n",
       "        [  0, 255,   0]],\n",
       "\n",
       "       [[  0, 255,   0],\n",
       "        [ 63, 116,  48],\n",
       "        [ 65,  95,  51],\n",
       "        ...,\n",
       "        [112, 156, 116],\n",
       "        [121, 165, 125],\n",
       "        [ 36, 229,  38]],\n",
       "\n",
       "       [[  0, 255,   0],\n",
       "        [ 74, 100,  57],\n",
       "        [ 76,  76,  61],\n",
       "        ...,\n",
       "        [130, 147, 134],\n",
       "        [137, 155, 143],\n",
       "        [ 40, 226,  43]],\n",
       "\n",
       "       ...,\n",
       "\n",
       "       [[  0, 255,   0],\n",
       "        [ 50, 162,  42],\n",
       "        [ 99,  86,  82],\n",
       "        ...,\n",
       "        [116, 112, 102],\n",
       "        [157, 155, 147],\n",
       "        [ 32, 241,  30]],\n",
       "\n",
       "       [[  0, 255,   0],\n",
       "        [ 48, 161,  41],\n",
       "        [ 95,  84,  81],\n",
       "        ...,\n",
       "        [138, 138, 128],\n",
       "        [182, 186, 178],\n",
       "        [ 34, 244,  34]],\n",
       "\n",
       "       [[  0, 255,   0],\n",
       "        [  9, 238,   7],\n",
       "        [ 17, 224,  14],\n",
       "        ...,\n",
       "        [ 28, 237,  26],\n",
       "        [ 34, 244,  33],\n",
       "        [  6, 253,   6]]], dtype=uint8)"
      ]
     },
     "execution_count": 19,
     "metadata": {},
     "output_type": "execute_result"
    }
   ],
   "source": [
    "X = np.vstack(X)\n",
    "Y = np.vstack(Y)\n",
    "Y = Y.reshape((38,))\n",
    "X"
   ]
  },
  {
   "cell_type": "code",
   "execution_count": 18,
   "metadata": {},
   "outputs": [
    {
     "name": "stdout",
     "output_type": "stream",
     "text": [
      "(38, 100, 100, 3) (38,)\n"
     ]
    }
   ],
   "source": [
    "print(X.shape,Y.shape)"
   ]
  },
  {
   "cell_type": "code",
   "execution_count": 7,
   "metadata": {},
   "outputs": [],
   "source": [
    "def dist(v1, v2):\n",
    "    return np.sqrt(np.sum((v1-v2)**2))\n",
    "\n",
    "def knn(X, Y, query_point, k=7):\n",
    "    m = X.shape[0]\n",
    "    distances = []\n",
    "    for i in range(m):\n",
    "        d = dist(query_point,X[i])\n",
    "        distances.append((d,Y[i]))\n",
    "    \n",
    "    distances = sorted(distances)[:k]\n",
    "    distances = np.array(distances)\n",
    "    labels = distances[:,1]\n",
    "    labels, freq =np.unique(labels, return_counts=True)\n",
    "    pred =labels[np.argmax(freq)]\n",
    "    \n",
    "    return int(pred)\n"
   ]
  },
  {
   "cell_type": "code",
   "execution_count": 8,
   "metadata": {},
   "outputs": [],
   "source": [
    "cam = cv2.VideoCapture(0)\n",
    "detector = cv2.CascadeClassifier(\"haarcascade_frontalface_alt.xml\")\n",
    "\n",
    "\n",
    "\n",
    "while True:\n",
    "    ret, frame = cam.read()\n",
    "    \n",
    "    if ret == False:\n",
    "        continue\n",
    "    \n",
    "    faces = detector.detectMultiScale(frame, 1.2)\n",
    "    if(len(faces)==0):\n",
    "        continue\n",
    "    \n",
    "    for face in faces:\n",
    "        \n",
    "        x, y, w, h = face\n",
    "        cv2.rectangle(frame, (x,y), (x+w, y+h), (0,255,0),2)\n",
    "        cropped_face = frame[y:y+h,x:x+w]\n",
    "        cropped_face = cv2.resize(cropped_face,(100,100))\n",
    "        #Find out the name of the face\n",
    "        pred = knn(X,Y,cropped_face,k=5)\n",
    "        pred_name = d[pred]\n",
    "        cv2.putText(frame, pred_name, (x, y-10), cv2.FONT_HERSHEY_SIMPLEX, 1.0, (255, 255, 255), lineType=cv2.LINE_AA)\n",
    "         \n",
    "    cv2.imshow(\"frame\",frame)\n",
    "    \n",
    "    key_pressed  = cv2.waitKey(1) & 0xFF\n",
    "    \n",
    "    if(key_pressed == ord('q')):\n",
    "        break\n",
    "    \n",
    "cam.release()\n",
    "cv2.destroyAllWindows()\n"
   ]
  },
  {
   "cell_type": "code",
   "execution_count": null,
   "metadata": {},
   "outputs": [],
   "source": []
  },
  {
   "cell_type": "code",
   "execution_count": null,
   "metadata": {},
   "outputs": [],
   "source": []
  }
 ],
 "metadata": {
  "kernelspec": {
   "display_name": "Python 3",
   "language": "python",
   "name": "python3"
  },
  "language_info": {
   "codemirror_mode": {
    "name": "ipython",
    "version": 3
   },
   "file_extension": ".py",
   "mimetype": "text/x-python",
   "name": "python",
   "nbconvert_exporter": "python",
   "pygments_lexer": "ipython3",
   "version": "3.7.3"
  }
 },
 "nbformat": 4,
 "nbformat_minor": 2
}
