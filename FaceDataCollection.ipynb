{
 "cells": [
  {
   "cell_type": "code",
   "execution_count": 7,
   "metadata": {},
   "outputs": [],
   "source": [
    "import cv2\n",
    "import matplotlib.pyplot as plt\n",
    "import numpy as np"
   ]
  },
  {
   "cell_type": "code",
   "execution_count": 8,
   "metadata": {},
   "outputs": [],
   "source": [
    "cam = cv2.VideoCapture(0) #0 stands for front camera\n",
    " ret, frame = cam.read()"
   ]
  },
  {
   "cell_type": "code",
   "execution_count": 9,
   "metadata": {},
   "outputs": [],
   "source": [
    "detector = cv2.CascadeClassifier(\"haarcascade_frontalface_alt.xml\")"
   ]
  },
  {
   "cell_type": "code",
   "execution_count": 10,
   "metadata": {},
   "outputs": [
    {
     "name": "stdout",
     "output_type": "stream",
     "text": [
      "enter the name of person getting clickedabdur\n",
      "saving face 20\r"
     ]
    }
   ],
   "source": [
    "name = input(\"enter the name of person getting clicked\")\n",
    "pics =[] # list of how many pics we have to click\n",
    "cnt =0\n",
    "while True:\n",
    "    ret, frame = cam.read()\n",
    "    #here frame is a variable that will store the frames of images\n",
    "    #ret is a boolean variable that keeps track of condition that whether frames are stored in frame or not\n",
    "    \n",
    "    if ret==False:\n",
    "        continue\n",
    "    \n",
    "    faces = detector.detectMultiScale(frame,1.2,5)\n",
    "    if(len(faces)==0):\n",
    "        continue\n",
    "    \n",
    "    face = faces[0]\n",
    "    x,y,w,h = face\n",
    "    frame = cv2.rectangle(frame,(x,y),(x+w,y+h),(0,255,0),2)\n",
    "    #-----------crop and save that part of face for training data\n",
    "    \n",
    "    cnt+=1\n",
    "    if cnt%10==0:  #wewill capture only one -10th face \n",
    "        cropped_face = frame[y:y+h,x:x+w]\n",
    "        cropped_face = cv2.resize(cropped_face,(100,100))\n",
    "        pics.append(cropped_face)\n",
    "        \n",
    "        print(\"saving face %d\"%(cnt/10),end='\\r')\n",
    "        if(len(pics)==20):  #after taking 20 pics this loop get terminated\n",
    "            break\n",
    "    \n",
    "    \n",
    "    \n",
    "        \n",
    "    cv2.imshow(\"frame\",frame)\n",
    "    \n",
    "    \n",
    "    # for activating key in keyboard\n",
    "    key_pressed = cv2.waitKey(1) & 0xFF  #here we can remove this key_pressed commmand\n",
    "    \n",
    "    #now check if key_pressed is 'q'\n",
    "    if(key_pressed == ord('q')):\n",
    "        break\n",
    "    \n",
    "    \n",
    "cam.release()\n",
    "cv2.destroyAllWindows()"
   ]
  },
  {
   "cell_type": "code",
   "execution_count": 12,
   "metadata": {},
   "outputs": [],
   "source": [
    "data = np.array(pics)\n",
    "np.save(name+\".npy\",data)"
   ]
  },
  {
   "cell_type": "code",
   "execution_count": null,
   "metadata": {},
   "outputs": [],
   "source": []
  },
  {
   "cell_type": "code",
   "execution_count": null,
   "metadata": {},
   "outputs": [],
   "source": []
  },
  {
   "cell_type": "code",
   "execution_count": null,
   "metadata": {},
   "outputs": [],
   "source": []
  },
  {
   "cell_type": "code",
   "execution_count": null,
   "metadata": {},
   "outputs": [],
   "source": []
  }
 ],
 "metadata": {
  "kernelspec": {
   "display_name": "Python 3",
   "language": "python",
   "name": "python3"
  },
  "language_info": {
   "codemirror_mode": {
    "name": "ipython",
    "version": 3
   },
   "file_extension": ".py",
   "mimetype": "text/x-python",
   "name": "python",
   "nbconvert_exporter": "python",
   "pygments_lexer": "ipython3",
   "version": "3.7.3"
  }
 },
 "nbformat": 4,
 "nbformat_minor": 2
}
